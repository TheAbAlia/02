{
 "cells": [
  {
   "cell_type": "code",
   "execution_count": 1,
   "metadata": {
    "_cell_guid": "b1076dfc-b9ad-4769-8c92-a6c4dae69d19",
    "_uuid": "8f2839f25d086af736a60e9eeb907d3b93b6e0e5",
    "execution": {
     "iopub.execute_input": "2021-12-16T23:32:40.790486Z",
     "iopub.status.busy": "2021-12-16T23:32:40.789465Z",
     "iopub.status.idle": "2021-12-16T23:32:40.795211Z",
     "shell.execute_reply": "2021-12-16T23:32:40.794238Z",
     "shell.execute_reply.started": "2021-12-16T23:32:40.790443Z"
    }
   },
   "outputs": [],
   "source": [
    "#-1 Utility\n",
    "import pandas as pd #dataframe\n",
    "import numpy as np #Linear algebra\n",
    "import matplotlib.pyplot as plt #plotting\n",
    "import seaborn as sns \n",
    "import re #regular expression\n",
    "\n",
    "\n",
    "pd.set_option(\"display.max_columns\", None)"
   ]
  },
  {
   "cell_type": "code",
   "execution_count": 2,
   "metadata": {
    "execution": {
     "iopub.execute_input": "2021-12-16T23:32:40.816810Z",
     "iopub.status.busy": "2021-12-16T23:32:40.816375Z",
     "iopub.status.idle": "2021-12-16T23:32:40.831337Z",
     "shell.execute_reply": "2021-12-16T23:32:40.830486Z",
     "shell.execute_reply.started": "2021-12-16T23:32:40.816771Z"
    }
   },
   "outputs": [],
   "source": [
    "#Part 00: Input:\n",
    "dataset= pd.read_csv(\"/Users/abdallaalia/Jypyter/Titanic/train.csv\")"
   ]
  },
  {
   "cell_type": "code",
   "execution_count": 3,
   "metadata": {
    "execution": {
     "iopub.execute_input": "2021-12-16T23:32:40.833941Z",
     "iopub.status.busy": "2021-12-16T23:32:40.833325Z",
     "iopub.status.idle": "2021-12-16T23:32:40.852724Z",
     "shell.execute_reply": "2021-12-16T23:32:40.851827Z",
     "shell.execute_reply.started": "2021-12-16T23:32:40.833894Z"
    },
    "scrolled": true
   },
   "outputs": [
    {
     "name": "stdout",
     "output_type": "stream",
     "text": [
      "Index(['PassengerId', 'Survived', 'Pclass', 'Name', 'Sex', 'Age', 'SibSp',\n",
      "       'Parch', 'Ticket', 'Fare', 'Cabin', 'Embarked'],\n",
      "      dtype='object')\n",
      "   PassengerId  Survived  Pclass  \\\n",
      "0            1         0       3   \n",
      "1            2         1       1   \n",
      "2            3         1       3   \n",
      "3            4         1       1   \n",
      "4            5         0       3   \n",
      "\n",
      "                                                Name     Sex   Age  SibSp  \\\n",
      "0                            Braund, Mr. Owen Harris    male  22.0      1   \n",
      "1  Cumings, Mrs. John Bradley (Florence Briggs Th...  female  38.0      1   \n",
      "2                             Heikkinen, Miss. Laina  female  26.0      0   \n",
      "3       Futrelle, Mrs. Jacques Heath (Lily May Peel)  female  35.0      1   \n",
      "4                           Allen, Mr. William Henry    male  35.0      0   \n",
      "\n",
      "   Parch            Ticket     Fare Cabin Embarked  \n",
      "0      0         A/5 21171   7.2500   NaN        S  \n",
      "1      0          PC 17599  71.2833   C85        C  \n",
      "2      0  STON/O2. 3101282   7.9250   NaN        S  \n",
      "3      0            113803  53.1000  C123        S  \n",
      "4      0            373450   8.0500   NaN        S  \n"
     ]
    }
   ],
   "source": [
    "print(dataset.columns)\n",
    "print(dataset.head())"
   ]
  },
  {
   "cell_type": "code",
   "execution_count": 4,
   "metadata": {},
   "outputs": [
    {
     "name": "stdout",
     "output_type": "stream",
     "text": [
      "Index(['Survived', 'Pclass', 'Sex', 'Age', 'SibSp', 'Parch', 'Fare',\n",
      "       'Embarked', 'Title'],\n",
      "      dtype='object')\n"
     ]
    }
   ],
   "source": [
    "#Part 00.01: pre-analysis.\n",
    "#We see that the feature \"Name\" does not depend on the dataset, albeit there exists \"Titles\" which are.\n",
    "#In particular, the title occurs after a \", \" and before a \".\". Finally, we remap by groupby.\n",
    "dataset['Title'] = dataset['Name'].str.extract(' ([A-Za-z]+)\\.', expand=False)\n",
    "title_dictionary = {\"Miss\": 1, \n",
    "                    \"Mrs\": 2, \n",
    "                    \"Master\": 3, \n",
    "                    \"Mr\": 4}\n",
    "dataset['Title']= dataset['Title'].map(title_dictionary)\n",
    "#We identified these four cells as the most frequent, the others are being NA afterwards.\n",
    "title_other= 0\n",
    "dataset['Title'].fillna(title_other,inplace=True)\n",
    "\n",
    "#We drop the feutures \"Ticket\", since it contains high ratio of duplicates\n",
    "#We drop the feutures \"Cabin\", since it contain high ratio of null-values\n",
    "#We drop the feutures \"Name\" and \"PassengerId\", since they should have no dependence on the dataset\n",
    "\n",
    "dataset= dataset.drop(['Name', 'Cabin', 'PassengerId', 'Ticket'], 1)\n",
    "\n",
    "print(dataset.columns)"
   ]
  },
  {
   "cell_type": "code",
   "execution_count": 5,
   "metadata": {
    "execution": {
     "iopub.execute_input": "2021-12-16T23:32:40.876508Z",
     "iopub.status.busy": "2021-12-16T23:32:40.876299Z",
     "iopub.status.idle": "2021-12-16T23:32:40.889069Z",
     "shell.execute_reply": "2021-12-16T23:32:40.888032Z",
     "shell.execute_reply.started": "2021-12-16T23:32:40.876483Z"
    }
   },
   "outputs": [
    {
     "name": "stdout",
     "output_type": "stream",
     "text": [
      "The feutures with NA values are: ['Age', 'Embarked'] \n",
      "\n",
      "Age 0.1987  % missing values\n",
      "Embarked 0.0022  % missing values\n",
      "The categorical_features are: ['Sex', 'Embarked'] \n",
      "\n",
      "The feature is Sex and number of categories are 2\n",
      "The feature is Embarked and number of categories are 4\n",
      "Number of numerical variables:  7 \n",
      "\n",
      "temporal features are [] \n",
      "\n",
      "Discrete Variables Count: 5 \n",
      "\n",
      "Continuous feature Count 2 \n",
      "\n"
     ]
    }
   ],
   "source": [
    "# Part 01: Initial analysis:\n",
    "\n",
    "#Part 01.01. analysis via desciptive data.\n",
    "\n",
    "#Setting the parameters\n",
    "features_with_na = [features for features in dataset.columns if dataset[features].isnull().sum()>1]\n",
    "numerical_with_nan=[feature for feature in dataset.columns if dataset[feature].isnull().sum()>1 and dataset[feature].dtypes!='O']\n",
    "numerical_features = [feature for feature in dataset.columns if dataset[feature].dtypes != 'O']\n",
    "categorical_features=[feature for feature in dataset.columns if dataset[feature].dtypes=='O']\n",
    "year_feature = [feature for feature in numerical_features if 'Yr' in feature or 'Year' in feature]\n",
    "discrete_feature=[feature for feature in numerical_features if len(dataset[feature].unique())<25 and feature not in year_feature+['id']]\n",
    "continuous_feature=[feature for feature in numerical_features if feature not in discrete_feature+year_feature+['id']]\n",
    "\n",
    "print(\"The feutures with NA values are:\" ,features_with_na,  \"\\n\")\n",
    "for feature in features_with_na:\n",
    "    print(feature, np.round(dataset[feature].isnull().mean(), 4),  ' % missing values')\n",
    "print(\"The categorical_features are:\" ,categorical_features,  \"\\n\")\n",
    "for feature in categorical_features:\n",
    "    print('The feature is {} and number of categories are {}'.format(feature,len(dataset[feature].unique())))\n",
    "print('Number of numerical variables: ', len(numerical_features), \"\\n\")\n",
    "print(\"temporal features are\", year_feature, \"\\n\")\n",
    "print(\"Discrete Variables Count: {}\".format(len(discrete_feature)), \"\\n\")\n",
    "print(\"Continuous feature Count {}\".format(len(continuous_feature)),  \"\\n\")"
   ]
  },
  {
   "cell_type": "code",
   "execution_count": 6,
   "metadata": {
    "execution": {
     "iopub.execute_input": "2021-12-16T23:32:40.912040Z",
     "iopub.status.busy": "2021-12-16T23:32:40.911271Z",
     "iopub.status.idle": "2021-12-16T23:32:42.464975Z",
     "shell.execute_reply": "2021-12-16T23:32:42.464121Z",
     "shell.execute_reply.started": "2021-12-16T23:32:40.911996Z"
    }
   },
   "outputs": [
    {
     "data": {
      "image/png": "[encoded data removed]",
      "text/plain": [
       "<Figure size 432x288 with 1 Axes>"
      ]
     },
     "metadata": {
      "needs_background": "light"
     },
     "output_type": "display_data"
    },
    {
     "data": {
      "image/png": "[encoded data removed]",
      "text/plain": [
       "<Figure size 432x288 with 1 Axes>"
      ]
     },
     "metadata": {
      "needs_background": "light"
     },
     "output_type": "display_data"
    },
    {
     "data": {
      "image/png": "[encoded data removed]",
      "text/plain": [
       "<Figure size 432x288 with 1 Axes>"
      ]
     },
     "metadata": {
      "needs_background": "light"
     },
     "output_type": "display_data"
    },
    {
     "data": {
      "image/png": "[encoded data removed]",
      "text/plain": [
       "<Figure size 432x288 with 1 Axes>"
      ]
     },
     "metadata": {
      "needs_background": "light"
     },
     "output_type": "display_data"
    },
    {
     "data": {
      "image/png": "[encoded data removed]",
      "text/plain": [
       "<Figure size 432x288 with 1 Axes>"
      ]
     },
     "metadata": {
      "needs_background": "light"
     },
     "output_type": "display_data"
    },
    {
     "data": {
      "image/png": "[encoded data removed]",
      "text/plain": [
       "<Figure size 432x288 with 1 Axes>"
      ]
     },
     "metadata": {
      "needs_background": "light"
     },
     "output_type": "display_data"
    },
    {
     "data": {
      "image/png": "[encoded data removed]",
      "text/plain": [
       "<Figure size 432x288 with 1 Axes>"
      ]
     },
     "metadata": {
      "needs_background": "light"
     },
     "output_type": "display_data"
    }
   ],
   "source": [
    "#Part 01.02: analysis via visualizing data.\n",
    "\n",
    "for feature in numerical_features:\n",
    "    data=dataset.copy()\n",
    "    data[feature].hist(bins=25)\n",
    "    plt.xlabel(feature)\n",
    "    plt.ylabel('Survived')\n",
    "    plt.title(feature)\n",
    "    plt.show()"
   ]
  },
  {
   "cell_type": "code",
   "execution_count": 7,
   "metadata": {
    "execution": {
     "iopub.execute_input": "2021-12-16T23:32:42.466474Z",
     "iopub.status.busy": "2021-12-16T23:32:42.466246Z",
     "iopub.status.idle": "2021-12-16T23:32:42.483212Z",
     "shell.execute_reply": "2021-12-16T23:32:42.482320Z",
     "shell.execute_reply.started": "2021-12-16T23:32:42.466445Z"
    }
   },
   "outputs": [],
   "source": [
    "#Part 02: Feauture prep:\n",
    "#Missing values fix (numerical)\n",
    "for feature in numerical_with_nan:\n",
    "    median_value=dataset[feature].median()\n",
    "    dataset[feature].fillna(median_value,inplace=True)\n",
    "    \n",
    "#Missing values fix (categorical)\n",
    "for feature in categorical_features:\n",
    "    freq_value= dataset[feature].dropna().mode()[0]\n",
    "    dataset[feature].fillna(freq_value,inplace=True)\n",
    "\n",
    "    \n",
    "#Categorical labeling\n",
    "for feature in categorical_features:\n",
    "    labels_ordered=dataset.groupby([feature])['Survived'].mean().sort_values().index\n",
    "    labels_ordered={k:i for i,k in enumerate(labels_ordered,0)}\n",
    "    dataset[feature]=dataset[feature].map(labels_ordered)"
   ]
  },
  {
   "cell_type": "code",
   "execution_count": 8,
   "metadata": {
    "execution": {
     "iopub.execute_input": "2021-12-16T23:32:42.485981Z",
     "iopub.status.busy": "2021-12-16T23:32:42.484932Z",
     "iopub.status.idle": "2021-12-16T23:32:42.505126Z",
     "shell.execute_reply": "2021-12-16T23:32:42.504079Z",
     "shell.execute_reply.started": "2021-12-16T23:32:42.485937Z"
    }
   },
   "outputs": [],
   "source": [
    "#Feature scale\n",
    "from sklearn.preprocessing import MinMaxScaler\n",
    "\n",
    "feature_scale=[feature for feature in dataset.columns if feature not in ['Survived']]\n",
    "scaler=MinMaxScaler()\n",
    "scaler.fit(dataset[feature_scale])\n",
    "scaler.transform(dataset[feature_scale])\n",
    "\n",
    "dataset = pd.concat([dataset[['Survived']].reset_index(drop=True),\n",
    "                    pd.DataFrame(scaler.transform(dataset[feature_scale]), columns=feature_scale)],\n",
    "                    axis=1)"
   ]
  },
  {
   "cell_type": "code",
   "execution_count": 9,
   "metadata": {
    "execution": {
     "iopub.execute_input": "2021-12-16T23:32:42.515848Z",
     "iopub.status.busy": "2021-12-16T23:32:42.515345Z",
     "iopub.status.idle": "2021-12-16T23:32:43.091856Z",
     "shell.execute_reply": "2021-12-16T23:32:43.090842Z",
     "shell.execute_reply.started": "2021-12-16T23:32:42.515813Z"
    }
   },
   "outputs": [
    {
     "name": "stdout",
     "output_type": "stream",
     "text": [
      "Logistic Regression Test Accuracy: 77.77778\n",
      "Decision Tree Test Accuracy: 80.0\n",
      "RandomForest Test Accuracy: 82.22222\n",
      "KNeighborsClassifier Test Accuracy: 78.88889\n",
      "GradientBoostingClassifier Test Accuracy: 84.44444\n",
      "SVC Test Accuracy: 78.88889\n",
      "LGBM Test Accuracy: 77.77778\n",
      "Classifier with best accuracy:GradientBoostingClassifier\n"
     ]
    }
   ],
   "source": [
    "#Part 03: Building the pipeline.\n",
    "\n",
    "from sklearn.preprocessing import LabelEncoder, StandardScaler\n",
    "from sklearn.linear_model import LogisticRegression\n",
    "from sklearn.pipeline import Pipeline\n",
    "from sklearn.model_selection import train_test_split\n",
    "from sklearn.metrics import accuracy_score\n",
    "from sklearn.tree import DecisionTreeClassifier\n",
    "from sklearn.decomposition import PCA\n",
    "from sklearn.svm import SVC\n",
    "from sklearn.neighbors import KNeighborsClassifier\n",
    "from sklearn.ensemble import RandomForestClassifier, GradientBoostingClassifier\n",
    "\n",
    "from lightgbm import LGBMClassifier\n",
    "\n",
    "predict= \"Survived\"\n",
    "\n",
    "X = np.array(dataset.drop([predict], 1))\n",
    "y = np.array(dataset[predict])\n",
    "X_train, X_test, y_train, y_test = train_test_split(X, y, test_size = 0.1, random_state = 42)\n",
    "\n",
    "#Pipeline buiding:\n",
    "pipeline_LR = Pipeline([('scalar1',StandardScaler()),\n",
    "                     ('pca1',PCA(n_components=2)),\n",
    "                     ('lr_classifier',LogisticRegression(random_state=42))])\n",
    "pipeline_DTC = Pipeline([('scalar2',StandardScaler()),\n",
    "                     ('pca2',PCA(n_components=2)),\n",
    "                     ('lr_classifier',DecisionTreeClassifier(random_state=42))])\n",
    "pipeline_RFC = Pipeline([('scalar3',StandardScaler()),\n",
    "                     ('pca3',PCA(n_components=2)),\n",
    "                     ('lr_classifier',RandomForestClassifier(random_state=42))])\n",
    "pipeline_KNC = Pipeline([('scalar4',StandardScaler()),\n",
    "                     ('pca4',PCA(n_components=2)),\n",
    "                     ('lr_classifier',KNeighborsClassifier(n_neighbors=3))])\n",
    "pipeline_GBC = Pipeline([('scalar5',StandardScaler()),\n",
    "                     ('pca5',PCA(n_components=2)),\n",
    "                     ('lr_classifier',GradientBoostingClassifier(random_state=42))])\n",
    "pipeline_SVC = Pipeline([('scalar6',StandardScaler()),\n",
    "                     ('pca6',PCA(n_components=2)),\n",
    "                     ('lr_classifier',SVC(random_state=42))])\n",
    "pipeline_LGBM = Pipeline([('scalar7',StandardScaler()),\n",
    "                     ('pca7',PCA(n_components=2)),\n",
    "                     ('lr_classifier',LGBMClassifier(random_state=42))])\n",
    "\n",
    "pipelines = [pipeline_LR, pipeline_DTC, pipeline_RFC, pipeline_KNC, pipeline_GBC, pipeline_SVC, pipeline_LGBM]\n",
    "\n",
    "# Pipeline parameter definittion\n",
    "best_accuracy = 0.0\n",
    "best_classifier = 0\n",
    "best_pipeline = \"\"\n",
    "\n",
    "pipe_dict = {0: 'Logistic Regression', \n",
    "             1: 'Decision Tree', \n",
    "             2: 'RandomForest', \n",
    "             3: 'KNeighborsClassifier', \n",
    "             4: 'GradientBoostingClassifier', \n",
    "             5: 'SVC',\n",
    "             6: 'LGBM'\n",
    "            }\n",
    "\n",
    "for pipe in pipelines:\n",
    "\tpipe.fit(X_train, y_train)\n",
    "\n",
    "# Gives Accuracy of all piplelines\n",
    "for i,model in enumerate(pipelines):\n",
    "    print(\"{} Test Accuracy: {}\".format(pipe_dict[i],round(model.score(X_test,y_test)*100, 5)))\n",
    "\n",
    "# Sorts by Accuracy\n",
    "for i,model in enumerate(pipelines):\n",
    "    if model.score(X_test,y_test) > best_accuracy:\n",
    "        best_accuracy = model.score(X_test,y_test)\n",
    "        best_pipeline = model\n",
    "        best_classifier = i\n",
    "print('Classifier with best accuracy:{}'.format(pipe_dict[best_classifier]))"
   ]
  },
  {
   "cell_type": "code",
   "execution_count": 10,
   "metadata": {},
   "outputs": [
    {
     "name": "stdout",
     "output_type": "stream",
     "text": [
      "The optimal accuracy is: 0.8327173913043477\n",
      "The best set of parameters is: {'learning_rate': 0.1, 'max_depth': 5, 'n_estimators': 50}\n"
     ]
    }
   ],
   "source": [
    "#Parameters hyper tuning and cross validation.\n",
    "\n",
    "from sklearn.model_selection import GridSearchCV\n",
    "\n",
    "classifier = GradientBoostingClassifier()\n",
    "parameters = {\n",
    "    \"n_estimators\":[5,50,250,500],\n",
    "    \"max_depth\":[1,3,5,7,9],\n",
    "    \"learning_rate\":[0.01,0.1,1,10,100]\n",
    "}\n",
    "\n",
    "grid_search = GridSearchCV(estimator = classifier, \n",
    "                           param_grid = parameters, \n",
    "                           scoring = 'accuracy', \n",
    "                           cv = 5, \n",
    "                           n_jobs = -1)\n",
    "\n",
    "grid_search = grid_search.fit(X_train, y_train)\n",
    "\n",
    "newaccuracy = grid_search.best_score_\n",
    "print(\"The optimal accuracy is:\", grid_search.best_score_)\n",
    "print(\"The best set of parameters is:\", grid_search.best_params_)"
   ]
  }
 ],
 "metadata": {
  "kernelspec": {
   "display_name": "Python 3",
   "language": "python",
   "name": "python3"
  },
  "language_info": {
   "codemirror_mode": {
    "name": "ipython",
    "version": 3
   },
   "file_extension": ".py",
   "mimetype": "text/x-python",
   "name": "python",
   "nbconvert_exporter": "python",
   "pygments_lexer": "ipython3",
   "version": "3.8.3"
  }
 },
 "nbformat": 4,
 "nbformat_minor": 4
}
